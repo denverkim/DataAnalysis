{
  "nbformat": 4,
  "nbformat_minor": 0,
  "metadata": {
    "colab": {
      "provenance": [],
      "authorship_tag": "ABX9TyPB2nb4yKTDZMxVWKMcZYA5",
      "include_colab_link": true
    },
    "kernelspec": {
      "name": "python3",
      "display_name": "Python 3"
    },
    "language_info": {
      "name": "python"
    }
  },
  "cells": [
    {
      "cell_type": "markdown",
      "metadata": {
        "id": "view-in-github",
        "colab_type": "text"
      },
      "source": [
        "<a href=\"https://colab.research.google.com/github/denverkim/DataAnalysis/blob/main/1_1_1_%EB%8D%B0%EC%9D%B4%ED%84%B0_%ED%94%84%EB%A0%88%EC%9E%84_%EC%97%B0%EC%8A%B5%EB%AC%B8%EC%A0%9C.ipynb\" target=\"_parent\"><img src=\"https://colab.research.google.com/assets/colab-badge.svg\" alt=\"Open In Colab\"/></a>"
      ]
    },
    {
      "cell_type": "code",
      "source": [
        "# Create a data frame with your class information (courseID, courseName, creditHours, Days) and save it as an Excel file. 이번학기에 듣는 클래스의 정보를 이용하여 데이터프레임을 만든후 엑셀파일로 저장하시요\n",
        "\n",
        "class_info = {\n",
        "    'courseID': ['11111', '22222', '33333'],\n",
        "    'courseName': ['math', 'science', 'english'],\n",
        "    'creditHours': [3, 4, 2],\n",
        "    'Days': ['Monday', 'Tuesday', 'Wednesday']\n",
        "}\n",
        "\n",
        "import pandas as pd\n",
        "\n",
        "df = pd.DataFrame(class_info)\n",
        "\n",
        "df.to_excel('class_info.xlsx', index=False)"
      ],
      "metadata": {
        "id": "0Hti6tk0J5CM"
      },
      "execution_count": 2,
      "outputs": []
    }
  ]
}